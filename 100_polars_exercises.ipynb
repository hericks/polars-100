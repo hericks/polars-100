{
 "cells": [
  {
   "cell_type": "markdown",
   "id": "74367f58",
   "metadata": {},
   "source": [
    "# 100 polars exercises\n",
    "\n",
    "This is a collection of polars exercises that have been collected on stack\n",
    "overflow and the polars documentation. The goal of this collection is to offer\n",
    "a quick reference for both old and new users but also to provide a set of\n",
    "exercises for those who teach.\n",
    "\n",
    "\n",
    "If you find an error or think you've a better way to solve some of them, feel\n",
    "free to open an issue at <https://github.com/hericks/polars-100>."
   ]
  },
  {
   "cell_type": "markdown",
   "id": "779b27c3",
   "metadata": {},
   "source": [
    "File automatically generated. See the documentation to update\n",
    "questions/answers/hints programmatically."
   ]
  },
  {
   "cell_type": "markdown",
   "id": "db4c7a00",
   "metadata": {},
   "source": [
    "Run the `initialize.py` module, then for each question you can query the answer\n",
    "or an hint with `hint(n)` or `answer(n)` for `n` question number."
   ]
  },
  {
   "cell_type": "code",
   "execution_count": null,
   "id": "85c9e0a9",
   "metadata": {},
   "outputs": [],
   "source": [
    "%run src/initialise.py"
   ]
  },
  {
   "cell_type": "markdown",
   "id": "b6f815ae",
   "metadata": {},
   "source": [
    "#### 1. Import the polars package under the name `pl`. (★☆☆)\n",
    "\n",
    "**Note.** The import is required for all subsequent questions."
   ]
  },
  {
   "cell_type": "code",
   "execution_count": null,
   "id": "15ff059e",
   "metadata": {},
   "outputs": [],
   "source": []
  },
  {
   "cell_type": "markdown",
   "id": "02ca2a2a",
   "metadata": {},
   "source": [
    "#### 2. Print the polars version and configuration. (★☆☆)"
   ]
  },
  {
   "cell_type": "code",
   "execution_count": null,
   "id": "0284606e",
   "metadata": {},
   "outputs": [],
   "source": []
  },
  {
   "cell_type": "markdown",
   "id": "fd33e28b",
   "metadata": {},
   "source": [
    "#### 3. Create a series named \"nums\" with intergers ranging from 0 to 9. (★☆☆)"
   ]
  },
  {
   "cell_type": "code",
   "execution_count": null,
   "id": "7a126098",
   "metadata": {},
   "outputs": [],
   "source": []
  },
  {
   "cell_type": "markdown",
   "id": "efe51727",
   "metadata": {},
   "source": [
    "#### 4. Create a dataframe with columns \"nums\" and \"bools\" of integers and boolean values. (★☆☆)"
   ]
  },
  {
   "cell_type": "code",
   "execution_count": null,
   "id": "ffa104a6",
   "metadata": {},
   "outputs": [],
   "source": []
  },
  {
   "cell_type": "markdown",
   "id": "633cae05",
   "metadata": {},
   "source": [
    "#### 5. Find the (estimated) memory size of a series or dataframe. (★☆☆)"
   ]
  },
  {
   "cell_type": "code",
   "execution_count": null,
   "id": "5b7d843f",
   "metadata": {},
   "outputs": [],
   "source": []
  },
  {
   "cell_type": "markdown",
   "id": "6687b13f",
   "metadata": {},
   "source": [
    "#### 6. Add a new column \"value\" with value 1.0 to the dataframe `df`. (★☆☆)"
   ]
  },
  {
   "cell_type": "code",
   "execution_count": null,
   "id": "08439ba7",
   "metadata": {},
   "outputs": [],
   "source": [
    "df = pl.DataFrame({\n",
    "    \"name\": [\"Tim\", \"Struppi\", \"Haddock\"],\n",
    "})"
   ]
  },
  {
   "cell_type": "code",
   "execution_count": null,
   "id": "59f2e429",
   "metadata": {},
   "outputs": [],
   "source": []
  },
  {
   "cell_type": "markdown",
   "id": "3fe872f3",
   "metadata": {},
   "source": [
    "#### 7. Add series `age` as new column to the dataframe `df`. (★☆☆)"
   ]
  },
  {
   "cell_type": "code",
   "execution_count": null,
   "id": "b72afb04",
   "metadata": {},
   "outputs": [],
   "source": [
    "df = pl.DataFrame({\n",
    "    \"name\": [\"Tim\", \"Struppi\", \"Haddock\"],\n",
    "})\n",
    "\n",
    "age = pl.Series(\"age\", [23, 4, 45])"
   ]
  },
  {
   "cell_type": "code",
   "execution_count": null,
   "id": "2b35f241",
   "metadata": {},
   "outputs": [],
   "source": []
  },
  {
   "cell_type": "markdown",
   "id": "05ba27cc",
   "metadata": {},
   "source": [
    "#### 8. Peek at the first 10 rows of the dataframe `df`. (★☆☆)"
   ]
  },
  {
   "cell_type": "code",
   "execution_count": null,
   "id": "444e0952",
   "metadata": {},
   "outputs": [],
   "source": [
    "df = pl.DataFrame({\n",
    "    \"index\": range(250)\n",
    "})"
   ]
  },
  {
   "cell_type": "code",
   "execution_count": null,
   "id": "debf176a",
   "metadata": {},
   "outputs": [],
   "source": []
  },
  {
   "cell_type": "markdown",
   "id": "a94fbeec",
   "metadata": {},
   "source": [
    "#### 9. Print the number of rows in the dataframe `df`. (★☆☆)"
   ]
  },
  {
   "cell_type": "code",
   "execution_count": null,
   "id": "8d21d950",
   "metadata": {},
   "outputs": [],
   "source": [
    "df = pl.DataFrame({\n",
    "    \"index\": range(42)\n",
    "})"
   ]
  },
  {
   "cell_type": "code",
   "execution_count": null,
   "id": "d15f2ee3",
   "metadata": {},
   "outputs": [],
   "source": []
  },
  {
   "cell_type": "markdown",
   "id": "feebf799",
   "metadata": {},
   "source": [
    "#### 10. Reorder the columns of the dataframe `df` to `\"name\"`, `\"age\"`, and `\"is_dog\"`. (★☆☆)"
   ]
  },
  {
   "cell_type": "code",
   "execution_count": null,
   "id": "b96e9419",
   "metadata": {},
   "outputs": [],
   "source": [
    "df = pl.DataFrame({\n",
    "    \"is_dog\": [False, True, False],\n",
    "    \"age\": [23, 4, 45],\n",
    "    \"name\": [\"Tim\", \"Struppi\", \"Haddock\"],\n",
    "})"
   ]
  },
  {
   "cell_type": "code",
   "execution_count": null,
   "id": "9770a760",
   "metadata": {},
   "outputs": [],
   "source": []
  },
  {
   "cell_type": "markdown",
   "id": "df08f9ea",
   "metadata": {},
   "source": [
    "#### 11. Filter the dataframe `df` for humans of age 23. (★☆☆)"
   ]
  },
  {
   "cell_type": "code",
   "execution_count": null,
   "id": "b4b59e2e",
   "metadata": {},
   "outputs": [],
   "source": [
    "df = pl.DataFrame({\n",
    "    \"is_dog\": [False, True, False],\n",
    "    \"age\": [23, 4, 45],\n",
    "    \"name\": [\"Tim\", \"Struppi\", \"Haddock\"],\n",
    "})"
   ]
  },
  {
   "cell_type": "code",
   "execution_count": null,
   "id": "a4637a45",
   "metadata": {},
   "outputs": [],
   "source": []
  },
  {
   "cell_type": "markdown",
   "id": "8140a14a",
   "metadata": {},
   "source": [
    "#### 12. Compare the dataframes `df1` and `df2` for equality. (★☆☆)\n",
    "\n",
    "**Note.** The result should return `True` as a single python `bool`."
   ]
  },
  {
   "cell_type": "code",
   "execution_count": null,
   "id": "fbcde1dc",
   "metadata": {},
   "outputs": [],
   "source": [
    "df1 = df2 = pl.DataFrame({\n",
    "    \"test\": [\"One-sample t\", \"Chi-squared\", \"Paired t\", \"Kolmogorov-Smirnov\", \"Mann-Whitney U\"],\n",
    "    \"p_value\": [0.14, None, 0.02, 0.67, 0.42],\n",
    "})"
   ]
  },
  {
   "cell_type": "code",
   "execution_count": null,
   "id": "405522ef",
   "metadata": {},
   "outputs": [],
   "source": []
  },
  {
   "cell_type": "markdown",
   "id": "182a9651",
   "metadata": {},
   "source": [
    "#### 13. For each unique value of `count`, select the first row in `df`. (★☆☆)"
   ]
  },
  {
   "cell_type": "code",
   "execution_count": null,
   "id": "68507c19",
   "metadata": {},
   "outputs": [],
   "source": [
    "df = pl.DataFrame({\n",
    "    \"count\": [2, 2, 3, 5, 5, 5],\n",
    "    \"name\": [\"Alice\", \"Bob\", \"Carol\", \"Carlos\", \"Charlie\", \"Eve\"],\n",
    "})"
   ]
  },
  {
   "cell_type": "code",
   "execution_count": null,
   "id": "80f4af11",
   "metadata": {},
   "outputs": [],
   "source": []
  },
  {
   "cell_type": "markdown",
   "id": "3f6918ec",
   "metadata": {},
   "source": [
    "#### 14. Create a dataframe with columns `name` and `age`. Each column should contain three unique values. The dataframe should have a row for each combination. (★☆☆)"
   ]
  },
  {
   "cell_type": "code",
   "execution_count": null,
   "id": "ba4533ad",
   "metadata": {},
   "outputs": [],
   "source": []
  },
  {
   "cell_type": "markdown",
   "id": "90e5a0d8",
   "metadata": {},
   "source": [
    "#### 15. Print the dataframe `df`, such that all rows are visible. (★☆☆)"
   ]
  },
  {
   "cell_type": "code",
   "execution_count": null,
   "id": "5b3ba1b0",
   "metadata": {},
   "outputs": [],
   "source": [
    "df = pl.DataFrame({\n",
    "    \"index\": range(20)\n",
    "})"
   ]
  },
  {
   "cell_type": "code",
   "execution_count": null,
   "id": "df48c1e9",
   "metadata": {},
   "outputs": [],
   "source": []
  },
  {
   "cell_type": "markdown",
   "id": "5dc302e5",
   "metadata": {},
   "source": [
    "#### 16. Print the dataframe `df`, such that all list element are visible. (★☆☆)"
   ]
  },
  {
   "cell_type": "code",
   "execution_count": null,
   "id": "dc7d726d",
   "metadata": {},
   "outputs": [],
   "source": [
    "df = pl.DataFrame({\n",
    "    \"name_lists\": [list(\"Alice\"), list(\"Bob\"), list(\"Charlie\")]\n",
    "})"
   ]
  },
  {
   "cell_type": "code",
   "execution_count": null,
   "id": "86ce9970",
   "metadata": {},
   "outputs": [],
   "source": []
  },
  {
   "cell_type": "markdown",
   "id": "1be198e1",
   "metadata": {},
   "source": [
    "#### 17. Create a series with all dates corresponding to the month of July 2016. (★★☆)"
   ]
  },
  {
   "cell_type": "code",
   "execution_count": null,
   "id": "3456acd5",
   "metadata": {},
   "outputs": [],
   "source": []
  },
  {
   "cell_type": "markdown",
   "id": "f6c48f33",
   "metadata": {},
   "source": [
    "#### 18. Based on the `bmi` column, add a `bmi_label` column to `df`.\n",
    "\n",
    "The `bmi_label` column should equal\n",
    "- `\"underweight\"` if BMI < 18.5\n",
    "- `\"normal weight\"` if 18.5 <= BMI < 25\n",
    "- `\"overweight\"` if 25 <= BMI < 30\n",
    "- `\"obese\"` if 30 <= BMI"
   ]
  },
  {
   "cell_type": "code",
   "execution_count": null,
   "id": "2a0a39d5",
   "metadata": {},
   "outputs": [],
   "source": [
    "df = pl.DataFrame({\"bmi\": [19.4, 17.2, 25.0, 18.0, 27.2, 20.7, 31.2]})"
   ]
  },
  {
   "cell_type": "code",
   "execution_count": null,
   "id": "5842789f",
   "metadata": {},
   "outputs": [],
   "source": []
  },
  {
   "cell_type": "markdown",
   "id": "6a84c745",
   "metadata": {},
   "source": [
    "#### 19. Add a columns `cum_cost`, `cum_profit`, and `cum_quantity` of cumulative cost, profit, and quantity to `df`."
   ]
  },
  {
   "cell_type": "code",
   "execution_count": null,
   "id": "5e1e85ba",
   "metadata": {},
   "outputs": [],
   "source": [
    "df = pl.DataFrame({\n",
    "    \"cost\": [1.0, 1.0, 1.2, 1.2, 1.5],\n",
    "    \"profit\": [1.5, 2.5, 1.2, 0.1, 0.3],\n",
    "    \"quantity\": [1, 2, 2, 5, 3],\n",
    "})"
   ]
  },
  {
   "cell_type": "code",
   "execution_count": null,
   "id": "caf4c19e",
   "metadata": {},
   "outputs": [],
   "source": []
  },
  {
   "cell_type": "markdown",
   "id": "fe8ec5c8",
   "metadata": {},
   "source": [
    "#### 20. Perform an element-wise multiplication of the float column `\"scalar\"` and the list column `\"vector\"`. (★★★)"
   ]
  },
  {
   "cell_type": "code",
   "execution_count": null,
   "id": "92302e54",
   "metadata": {},
   "outputs": [],
   "source": [
    "df = pl.DataFrame({\n",
    "    \"scalar\": [1., 2., 3.],\n",
    "    \"vector\": [[1, 2, 3], [4, 5, 6], [7, 8, 9]],\n",
    "})"
   ]
  },
  {
   "cell_type": "code",
   "execution_count": null,
   "id": "1c3f77ee",
   "metadata": {},
   "outputs": [],
   "source": []
  },
  {
   "cell_type": "markdown",
   "id": "38399fd4",
   "metadata": {},
   "source": [
    "#### 21. Compute bootstrapped 95% confidence intervals for the mean of the `\"value\"` column (i.e., resample the elements of the column with replacement N times, compute the mean of each sample, and then compute percentiles over the means). (★★★)"
   ]
  },
  {
   "cell_type": "code",
   "execution_count": null,
   "id": "2c464e38",
   "metadata": {},
   "outputs": [],
   "source": [
    "import random\n",
    "\n",
    "df = pl.DataFrame({\n",
    "    \"value\": [random.normalvariate(mu=2, sigma=0.5)**2 for _ in range(100)]\n",
    "})"
   ]
  },
  {
   "cell_type": "code",
   "execution_count": null,
   "id": "5a1169df",
   "metadata": {},
   "outputs": [],
   "source": []
  }
 ],
 "metadata": {},
 "nbformat": 4,
 "nbformat_minor": 5
}
