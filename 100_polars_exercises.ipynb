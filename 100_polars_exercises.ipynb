{
 "cells": [
  {
   "cell_type": "markdown",
   "id": "f7ad338c",
   "metadata": {},
   "source": [
    "# 100 polars exercises\n",
    "\n",
    "This is a collection of polars exercises that have been collected on stack\n",
    "overflow and the polars documentation. The goal of this collection is to offer\n",
    "a quick reference for both old and new users but also to provide a set of\n",
    "exercises for those who teach.\n",
    "\n",
    "\n",
    "If you find an error or think you've a better way to solve some of them, feel\n",
    "free to open an issue at <https://github.com/hericks/polars-100>."
   ]
  },
  {
   "cell_type": "markdown",
   "id": "2b7906db",
   "metadata": {},
   "source": [
    "File automatically generated. See the documentation to update\n",
    "questions/answers/hints programmatically."
   ]
  },
  {
   "cell_type": "markdown",
   "id": "19581cea",
   "metadata": {},
   "source": [
    "Run the `initialize.py` module, then for each question you can query the answer\n",
    "or an hint with `hint(n)` or `answer(n)` for `n` question number."
   ]
  },
  {
   "cell_type": "code",
   "execution_count": null,
   "id": "8c7e1307",
   "metadata": {},
   "outputs": [],
   "source": [
    "%run src/initialise.py"
   ]
  },
  {
   "cell_type": "markdown",
   "id": "fc8d388b",
   "metadata": {},
   "source": [
    "#### 1. Import the polars package under the name `pl`. (★☆☆)\n",
    "\n",
    "**Note.** The import is required for all subsequent questions."
   ]
  },
  {
   "cell_type": "code",
   "execution_count": null,
   "id": "def7ddf7",
   "metadata": {},
   "outputs": [],
   "source": []
  },
  {
   "cell_type": "markdown",
   "id": "44db6c20",
   "metadata": {},
   "source": [
    "#### 2. Print the polars version and configuration. (★☆☆)"
   ]
  },
  {
   "cell_type": "code",
   "execution_count": null,
   "id": "182658d4",
   "metadata": {},
   "outputs": [],
   "source": []
  },
  {
   "cell_type": "markdown",
   "id": "7e067d1b",
   "metadata": {},
   "source": [
    "#### 3. Create a series named \"nums\" with intergers ranging from 0 to 9. (★☆☆)"
   ]
  },
  {
   "cell_type": "code",
   "execution_count": null,
   "id": "4d065a4b",
   "metadata": {},
   "outputs": [],
   "source": []
  },
  {
   "cell_type": "markdown",
   "id": "7befdd4f",
   "metadata": {},
   "source": [
    "#### 4. Create a dataframe with columns \"nums\" and \"bools\" of integers and boolean values. (★☆☆)"
   ]
  },
  {
   "cell_type": "code",
   "execution_count": null,
   "id": "57db3c41",
   "metadata": {},
   "outputs": [],
   "source": []
  },
  {
   "cell_type": "markdown",
   "id": "91759e3d",
   "metadata": {},
   "source": [
    "#### 5. Find the (estimated) memory size of a series or DataFrame. (★☆☆)"
   ]
  },
  {
   "cell_type": "code",
   "execution_count": null,
   "id": "e5d9fa47",
   "metadata": {},
   "outputs": [],
   "source": []
  },
  {
   "cell_type": "markdown",
   "id": "8523d62d",
   "metadata": {},
   "source": [
    "#### 6. Add a new column \"value\" with value 1.0 to the dataframe `df`. (★☆☆)"
   ]
  },
  {
   "cell_type": "code",
   "execution_count": null,
   "id": "f73f13a3",
   "metadata": {},
   "outputs": [],
   "source": [
    "df = pl.DataFrame({\n",
    "    \"name\": [\"Tim\", \"Struppi\", \"Haddock\"],\n",
    "})"
   ]
  },
  {
   "cell_type": "code",
   "execution_count": null,
   "id": "6e07c857",
   "metadata": {},
   "outputs": [],
   "source": []
  },
  {
   "cell_type": "markdown",
   "id": "24dfbd47",
   "metadata": {},
   "source": [
    "#### 7. Add series `age` as new column to the dataframe `df`. (★☆☆)"
   ]
  },
  {
   "cell_type": "code",
   "execution_count": null,
   "id": "3b3304b8",
   "metadata": {},
   "outputs": [],
   "source": [
    "df = pl.DataFrame({\n",
    "    \"name\": [\"Tim\", \"Struppi\", \"Haddock\"],\n",
    "})\n",
    "\n",
    "age = pl.Series(\"age\", [23, 4, 45])"
   ]
  },
  {
   "cell_type": "code",
   "execution_count": null,
   "id": "68e034be",
   "metadata": {},
   "outputs": [],
   "source": []
  },
  {
   "cell_type": "markdown",
   "id": "b3508ed4",
   "metadata": {},
   "source": [
    "#### 8. Peek at the first 15 rows of the dataframe `df`. (★☆☆)"
   ]
  },
  {
   "cell_type": "code",
   "execution_count": null,
   "id": "78e06f21",
   "metadata": {},
   "outputs": [],
   "source": [
    "import random\n",
    "\n",
    "df = pl.DataFrame({\n",
    "    \"value\": [random.normalvariate() for _ in range(250)]\n",
    "})"
   ]
  },
  {
   "cell_type": "code",
   "execution_count": null,
   "id": "b5c8bb8a",
   "metadata": {},
   "outputs": [],
   "source": []
  }
 ],
 "metadata": {},
 "nbformat": 4,
 "nbformat_minor": 5
}
