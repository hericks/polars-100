{
 "cells": [
  {
   "cell_type": "markdown",
   "id": "03df5d97",
   "metadata": {},
   "source": [
    "# 100 polars exercises\n",
    "\n",
    "This is a collection of polars exercises that have been collected on stack\n",
    "overflow and the polars documentation. The goal of this collection is to offer\n",
    "a quick reference for both old and new users but also to provide a set of\n",
    "exercises for those who teach.\n",
    "\n",
    "\n",
    "If you find an error or think you've a better way to solve some of them, feel\n",
    "free to open an issue at <https://github.com/hericks/polars-100>."
   ]
  },
  {
   "cell_type": "markdown",
   "id": "7b8211bc",
   "metadata": {},
   "source": [
    "File automatically generated. See the documentation to update\n",
    "questions/answers/hints programmatically."
   ]
  },
  {
   "cell_type": "markdown",
   "id": "c17d8c4c",
   "metadata": {},
   "source": [
    "Run the `initialize.py` module, then for each question you can query the answer\n",
    "or an hint with `hint(n)` or `answer(n)` for `n` question number."
   ]
  },
  {
   "cell_type": "code",
   "execution_count": null,
   "id": "9bb7bcae",
   "metadata": {},
   "outputs": [],
   "source": [
    "%run src/initialise.py"
   ]
  },
  {
   "cell_type": "markdown",
   "id": "30187510",
   "metadata": {},
   "source": [
    "#### 1. Import the polars package under the name `pl`. (★☆☆)\n",
    "\n",
    "**Note.** The import is required for all subsequent questions."
   ]
  },
  {
   "cell_type": "code",
   "execution_count": null,
   "id": "6ffb14b8",
   "metadata": {},
   "outputs": [],
   "source": []
  },
  {
   "cell_type": "markdown",
   "id": "e9308c8d",
   "metadata": {},
   "source": [
    "#### 2. Print the polars version and configuration. (★☆☆)"
   ]
  },
  {
   "cell_type": "code",
   "execution_count": null,
   "id": "6d52d6ed",
   "metadata": {},
   "outputs": [],
   "source": []
  },
  {
   "cell_type": "markdown",
   "id": "19ac7910",
   "metadata": {},
   "source": [
    "#### 3. Create a series named \"nums\" with intergers ranging from 0 to 9. (★☆☆)"
   ]
  },
  {
   "cell_type": "code",
   "execution_count": null,
   "id": "d0ff94ed",
   "metadata": {},
   "outputs": [],
   "source": []
  },
  {
   "cell_type": "markdown",
   "id": "a2f84898",
   "metadata": {},
   "source": [
    "#### 4. Create a dataframe with columns \"nums\" and \"bools\" of integers and boolean values. (★☆☆)"
   ]
  },
  {
   "cell_type": "code",
   "execution_count": null,
   "id": "0de99fc7",
   "metadata": {},
   "outputs": [],
   "source": []
  },
  {
   "cell_type": "markdown",
   "id": "43963072",
   "metadata": {},
   "source": [
    "#### 5. Find the (estimated) memory size of a series or dataframe. (★☆☆)"
   ]
  },
  {
   "cell_type": "code",
   "execution_count": null,
   "id": "4f9c21ca",
   "metadata": {},
   "outputs": [],
   "source": []
  },
  {
   "cell_type": "markdown",
   "id": "16154e97",
   "metadata": {},
   "source": [
    "#### 6. Add a new column \"value\" with value 1.0 to the dataframe `df`. (★☆☆)"
   ]
  },
  {
   "cell_type": "code",
   "execution_count": null,
   "id": "281c614d",
   "metadata": {},
   "outputs": [],
   "source": [
    "df = pl.DataFrame({\n",
    "    \"name\": [\"Tim\", \"Struppi\", \"Haddock\"],\n",
    "})"
   ]
  },
  {
   "cell_type": "code",
   "execution_count": null,
   "id": "0fdbcf20",
   "metadata": {},
   "outputs": [],
   "source": []
  },
  {
   "cell_type": "markdown",
   "id": "e7670f2f",
   "metadata": {},
   "source": [
    "#### 7. Add series `age` as new column to the dataframe `df`. (★☆☆)"
   ]
  },
  {
   "cell_type": "code",
   "execution_count": null,
   "id": "3cc0b54c",
   "metadata": {},
   "outputs": [],
   "source": [
    "df = pl.DataFrame({\n",
    "    \"name\": [\"Tim\", \"Struppi\", \"Haddock\"],\n",
    "})\n",
    "\n",
    "age = pl.Series(\"age\", [23, 4, 45])"
   ]
  },
  {
   "cell_type": "code",
   "execution_count": null,
   "id": "3968e3c8",
   "metadata": {},
   "outputs": [],
   "source": []
  },
  {
   "cell_type": "markdown",
   "id": "b6a6b24c",
   "metadata": {},
   "source": [
    "#### 8. Peek at the first 10 rows of the dataframe `df`. (★☆☆)"
   ]
  },
  {
   "cell_type": "code",
   "execution_count": null,
   "id": "9d713c99",
   "metadata": {},
   "outputs": [],
   "source": [
    "import random\n",
    "\n",
    "df = pl.DataFrame({\n",
    "    \"value\": [random.normalvariate() for _ in range(250)]\n",
    "})"
   ]
  },
  {
   "cell_type": "code",
   "execution_count": null,
   "id": "d0fc9d9c",
   "metadata": {},
   "outputs": [],
   "source": []
  },
  {
   "cell_type": "markdown",
   "id": "53f70762",
   "metadata": {},
   "source": [
    "#### 9. Reorder the columns of the dataframe `df`. (★☆☆)"
   ]
  },
  {
   "cell_type": "code",
   "execution_count": null,
   "id": "2634b382",
   "metadata": {},
   "outputs": [],
   "source": [
    "df = pl.DataFrame({\n",
    "    \"is_dog\": [False, True, False],\n",
    "    \"age\": [23, 4, 45],\n",
    "    \"name\": [\"Tim\", \"Struppi\", \"Haddock\"],\n",
    "})"
   ]
  },
  {
   "cell_type": "code",
   "execution_count": null,
   "id": "4f6a6db4",
   "metadata": {},
   "outputs": [],
   "source": []
  },
  {
   "cell_type": "markdown",
   "id": "54d1d2d9",
   "metadata": {},
   "source": [
    "#### 10. Filter the dataframe `df` for humans of age 23. (★☆☆)"
   ]
  },
  {
   "cell_type": "code",
   "execution_count": null,
   "id": "df0ef415",
   "metadata": {},
   "outputs": [],
   "source": [
    "df = pl.DataFarme({\n",
    "    \"is_dog\": [False, True, False],\n",
    "    \"age\": [23, 4, 45],\n",
    "    \"name\": [\"Tim\", \"Struppi\", \"Haddock\"],\n",
    "})"
   ]
  },
  {
   "cell_type": "code",
   "execution_count": null,
   "id": "5246a209",
   "metadata": {},
   "outputs": [],
   "source": []
  }
 ],
 "metadata": {
  "language_info": {
   "name": "python"
  }
 },
 "nbformat": 4,
 "nbformat_minor": 5
}
