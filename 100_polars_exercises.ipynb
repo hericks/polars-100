{
 "cells": [
  {
   "cell_type": "markdown",
   "id": "3fd2e3a9",
   "metadata": {},
   "source": [
    "# 100 polars exercises\n",
    "\n",
    "This is a collection of polars exercises that have been collected on stack\n",
    "overflow and the polars documentation. The goal of this collection is to offer\n",
    "a quick reference for both old and new users but also to provide a set of\n",
    "exercises for those who teach.\n",
    "\n",
    "\n",
    "If you find an error or think you've a better way to solve some of them, feel\n",
    "free to open an issue at <https://github.com/hericks/polars-100>."
   ]
  },
  {
   "cell_type": "markdown",
   "id": "77211d13",
   "metadata": {},
   "source": [
    "File automatically generated. See the documentation to update\n",
    "questions/answers/hints programmatically."
   ]
  },
  {
   "cell_type": "markdown",
   "id": "63dda2e2",
   "metadata": {},
   "source": [
    "Run the `initialize.py` module, then for each question you can query the answer\n",
    "or an hint with `hint(n)` or `answer(n)` for `n` question number."
   ]
  },
  {
   "cell_type": "code",
   "execution_count": null,
   "id": "4bfe8f3f",
   "metadata": {},
   "outputs": [],
   "source": [
    "%run src/initialise.py"
   ]
  },
  {
   "cell_type": "markdown",
   "id": "c11490e1",
   "metadata": {},
   "source": [
    "#### 1. Import the polars package under the name `pl`. (★☆☆)"
   ]
  },
  {
   "cell_type": "code",
   "execution_count": null,
   "id": "6226dd49",
   "metadata": {},
   "outputs": [],
   "source": []
  },
  {
   "cell_type": "markdown",
   "id": "3578994f",
   "metadata": {},
   "source": [
    "#### 2. Print the polars version and configuration. (★☆☆)"
   ]
  },
  {
   "cell_type": "code",
   "execution_count": null,
   "id": "7dc07e42",
   "metadata": {},
   "outputs": [],
   "source": []
  },
  {
   "cell_type": "markdown",
   "id": "995cb52f",
   "metadata": {},
   "source": [
    "#### 3. Create a series named \"nums\" with intergers ranging from 0 to 9. (★☆☆)"
   ]
  },
  {
   "cell_type": "code",
   "execution_count": null,
   "id": "634dff14",
   "metadata": {},
   "outputs": [],
   "source": []
  },
  {
   "cell_type": "markdown",
   "id": "e9c5cd0f",
   "metadata": {},
   "source": [
    "#### 4. Create a dataframe with columns \"nums\" and \"bools\" of integers and boolean values. (★☆☆)"
   ]
  },
  {
   "cell_type": "code",
   "execution_count": null,
   "id": "779054fe",
   "metadata": {},
   "outputs": [],
   "source": []
  },
  {
   "cell_type": "markdown",
   "id": "ee081585",
   "metadata": {},
   "source": [
    "#### 5. Find the (estimated) memory size of a series or DataFrame. (★☆☆)"
   ]
  },
  {
   "cell_type": "code",
   "execution_count": null,
   "id": "faeb1e79",
   "metadata": {},
   "outputs": [],
   "source": []
  },
  {
   "cell_type": "markdown",
   "id": "0e4f5c07",
   "metadata": {},
   "source": [
    "#### 6. Add a new column \"value\" with value 1.0 to the dataframe `df`. (★☆☆)"
   ]
  },
  {
   "cell_type": "code",
   "execution_count": null,
   "id": "bfbbc398",
   "metadata": {},
   "outputs": [],
   "source": [
    "df = pl.DataFrame({\n",
    "    \"name\": [\"Tim\", \"Struppi\", \"Haddock\"],\n",
    "})"
   ]
  },
  {
   "cell_type": "code",
   "execution_count": null,
   "id": "3e9cdfef",
   "metadata": {},
   "outputs": [],
   "source": []
  },
  {
   "cell_type": "markdown",
   "id": "9e23651f",
   "metadata": {},
   "source": [
    "#### 7. Add series `age` as new column to the dataframe `df`. (★☆☆)"
   ]
  },
  {
   "cell_type": "code",
   "execution_count": null,
   "id": "2782256d",
   "metadata": {},
   "outputs": [],
   "source": [
    "df = pl.DataFrame({\n",
    "    \"name\": [\"Tim\", \"Struppi\", \"Haddock\"],\n",
    "})\n",
    "\n",
    "age = pl.Series(\"age\", [23, 4, 45])"
   ]
  },
  {
   "cell_type": "code",
   "execution_count": null,
   "id": "3c96ed04",
   "metadata": {},
   "outputs": [],
   "source": []
  },
  {
   "cell_type": "markdown",
   "id": "8c25929d",
   "metadata": {},
   "source": [
    "#### 8. Peek at the first 15 rows of the dataframe `df`. (★☆☆)"
   ]
  },
  {
   "cell_type": "code",
   "execution_count": null,
   "id": "eeef9a62",
   "metadata": {},
   "outputs": [],
   "source": [
    "import random\n",
    "\n",
    "df = pl.DataFrame({\n",
    "    \"value\": [random.normalvariate() for _ in range(250)]\n",
    "})"
   ]
  },
  {
   "cell_type": "code",
   "execution_count": null,
   "id": "4fd0f121",
   "metadata": {},
   "outputs": [],
   "source": []
  }
 ],
 "metadata": {},
 "nbformat": 4,
 "nbformat_minor": 5
}
