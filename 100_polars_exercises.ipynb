{
 "cells": [
  {
   "cell_type": "markdown",
   "id": "36f89476",
   "metadata": {},
   "source": [
    "# 100 polars exercises\n",
    "\n",
    "This is a collection of polars exercises that have been collected on stack\n",
    "overflow and the polars documentation. The goal of this collection is to offer\n",
    "a quick reference for both old and new users but also to provide a set of\n",
    "exercises for those who teach.\n",
    "\n",
    "\n",
    "If you find an error or think you've a better way to solve some of them, feel\n",
    "free to open an issue at <https://github.com/hericks/polars-100>."
   ]
  },
  {
   "cell_type": "markdown",
   "id": "c600e7f4",
   "metadata": {},
   "source": [
    "File automatically generated. See the documentation to update\n",
    "questions/answers/hints programmatically."
   ]
  },
  {
   "cell_type": "markdown",
   "id": "2eafe206",
   "metadata": {},
   "source": [
    "Run the `initialize.py` module, then for each question you can query the answer\n",
    "or an hint with `hint(n)` or `answer(n)` for `n` question number."
   ]
  },
  {
   "cell_type": "code",
   "execution_count": null,
   "id": "7f23e8c7",
   "metadata": {},
   "outputs": [],
   "source": [
    "%run src/initialise.py"
   ]
  },
  {
   "cell_type": "markdown",
   "id": "a83495d2",
   "metadata": {},
   "source": [
    "#### 1. Import the polars package under the name `pl`. (★☆☆)\n",
    "\n",
    "**Note.** The import is required for all subsequent questions."
   ]
  },
  {
   "cell_type": "code",
   "execution_count": null,
   "id": "5ee46eaa",
   "metadata": {},
   "outputs": [],
   "source": []
  },
  {
   "cell_type": "markdown",
   "id": "e4571004",
   "metadata": {},
   "source": [
    "#### 2. Print the polars version and configuration. (★☆☆)"
   ]
  },
  {
   "cell_type": "code",
   "execution_count": null,
   "id": "edf095f0",
   "metadata": {},
   "outputs": [],
   "source": []
  },
  {
   "cell_type": "markdown",
   "id": "33df5446",
   "metadata": {},
   "source": [
    "#### 3. Create a series named \"nums\" with intergers ranging from 0 to 9. (★☆☆)"
   ]
  },
  {
   "cell_type": "code",
   "execution_count": null,
   "id": "c187a562",
   "metadata": {},
   "outputs": [],
   "source": []
  },
  {
   "cell_type": "markdown",
   "id": "d9ba259e",
   "metadata": {},
   "source": [
    "#### 4. Create a dataframe with columns \"nums\" and \"bools\" of integers and boolean values. (★☆☆)"
   ]
  },
  {
   "cell_type": "code",
   "execution_count": null,
   "id": "1e57e89a",
   "metadata": {},
   "outputs": [],
   "source": []
  },
  {
   "cell_type": "markdown",
   "id": "af723cc4",
   "metadata": {},
   "source": [
    "#### 5. Find the (estimated) memory size of a series or dataframe. (★☆☆)"
   ]
  },
  {
   "cell_type": "code",
   "execution_count": null,
   "id": "434fbea0",
   "metadata": {},
   "outputs": [],
   "source": []
  },
  {
   "cell_type": "markdown",
   "id": "a47d5631",
   "metadata": {},
   "source": [
    "#### 6. Add a new column \"value\" with value 1.0 to the dataframe `df`. (★☆☆)"
   ]
  },
  {
   "cell_type": "code",
   "execution_count": null,
   "id": "3d4c8430",
   "metadata": {},
   "outputs": [],
   "source": [
    "df = pl.DataFrame({\n",
    "    \"name\": [\"Tim\", \"Struppi\", \"Haddock\"],\n",
    "})"
   ]
  },
  {
   "cell_type": "code",
   "execution_count": null,
   "id": "e84003ee",
   "metadata": {},
   "outputs": [],
   "source": []
  },
  {
   "cell_type": "markdown",
   "id": "bf183b68",
   "metadata": {},
   "source": [
    "#### 7. Add series `age` as new column to the dataframe `df`. (★☆☆)"
   ]
  },
  {
   "cell_type": "code",
   "execution_count": null,
   "id": "a203246c",
   "metadata": {},
   "outputs": [],
   "source": [
    "df = pl.DataFrame({\n",
    "    \"name\": [\"Tim\", \"Struppi\", \"Haddock\"],\n",
    "})\n",
    "\n",
    "age = pl.Series(\"age\", [23, 4, 45])"
   ]
  },
  {
   "cell_type": "code",
   "execution_count": null,
   "id": "ee92d9d1",
   "metadata": {},
   "outputs": [],
   "source": []
  },
  {
   "cell_type": "markdown",
   "id": "ee933385",
   "metadata": {},
   "source": [
    "#### 8. Peek at the first 10 rows of the dataframe `df`. (★☆☆)"
   ]
  },
  {
   "cell_type": "code",
   "execution_count": null,
   "id": "6f24ce8e",
   "metadata": {},
   "outputs": [],
   "source": [
    "df = pl.DataFrame({\n",
    "    \"index\": range(250)\n",
    "})"
   ]
  },
  {
   "cell_type": "code",
   "execution_count": null,
   "id": "56514d35",
   "metadata": {},
   "outputs": [],
   "source": []
  },
  {
   "cell_type": "markdown",
   "id": "db5652f2",
   "metadata": {},
   "source": [
    "#### 9. Print the number of rows in the dataframe `df`. (★☆☆)"
   ]
  },
  {
   "cell_type": "code",
   "execution_count": null,
   "id": "d310bf52",
   "metadata": {},
   "outputs": [],
   "source": [
    "df = pl.DataFrame({\n",
    "    \"index\": range(42)\n",
    "})"
   ]
  },
  {
   "cell_type": "code",
   "execution_count": null,
   "id": "02decc0f",
   "metadata": {},
   "outputs": [],
   "source": []
  },
  {
   "cell_type": "markdown",
   "id": "d7f0391b",
   "metadata": {},
   "source": [
    "#### 10. Reorder the columns of the dataframe `df` to `\"name\"`, `\"age\"`, and `\"is_dog\"`. (★☆☆)"
   ]
  },
  {
   "cell_type": "code",
   "execution_count": null,
   "id": "f6dd0a1a",
   "metadata": {},
   "outputs": [],
   "source": [
    "df = pl.DataFrame({\n",
    "    \"is_dog\": [False, True, False],\n",
    "    \"age\": [23, 4, 45],\n",
    "    \"name\": [\"Tim\", \"Struppi\", \"Haddock\"],\n",
    "})"
   ]
  },
  {
   "cell_type": "code",
   "execution_count": null,
   "id": "5a54b64f",
   "metadata": {},
   "outputs": [],
   "source": []
  },
  {
   "cell_type": "markdown",
   "id": "ffc87d80",
   "metadata": {},
   "source": [
    "#### 11. Filter the dataframe `df` for humans of age 23. (★☆☆)"
   ]
  },
  {
   "cell_type": "code",
   "execution_count": null,
   "id": "2f3abc7d",
   "metadata": {},
   "outputs": [],
   "source": [
    "df = pl.DataFrame({\n",
    "    \"is_dog\": [False, True, False],\n",
    "    \"age\": [23, 4, 45],\n",
    "    \"name\": [\"Tim\", \"Struppi\", \"Haddock\"],\n",
    "})"
   ]
  },
  {
   "cell_type": "code",
   "execution_count": null,
   "id": "ab1a9e12",
   "metadata": {},
   "outputs": [],
   "source": []
  },
  {
   "cell_type": "markdown",
   "id": "95498bba",
   "metadata": {},
   "source": [
    "#### 12. Compare the dataframes `df1` and `df2` for equality. (★☆☆)\n",
    "\n",
    "**Note.** The result should return `True` as a single python `bool`."
   ]
  },
  {
   "cell_type": "code",
   "execution_count": null,
   "id": "6620b1a7",
   "metadata": {},
   "outputs": [],
   "source": [
    "df1 = df2 = pl.DataFrame({\n",
    "    \"test\": [\"One-sample t\", \"Chi-squared\", \"Paired t\", \"Kolmogorov-Smirnov\", \"Mann-Whitney U\"],\n",
    "    \"p_value\": [0.14, None, 0.02, 0.67, 0.42],\n",
    "})"
   ]
  },
  {
   "cell_type": "code",
   "execution_count": null,
   "id": "4567027d",
   "metadata": {},
   "outputs": [],
   "source": []
  },
  {
   "cell_type": "markdown",
   "id": "ac15b743",
   "metadata": {},
   "source": [
    "#### 13. For each unique value of `count`, select the first row in `df`. (★☆☆)"
   ]
  },
  {
   "cell_type": "code",
   "execution_count": null,
   "id": "afa407b2",
   "metadata": {},
   "outputs": [],
   "source": [
    "df = pl.DataFrame({\n",
    "    \"count\": [2, 2, 3, 5, 5, 5],\n",
    "    \"name\": [\"Alice\", \"Bob\", \"Carol\", \"Carlos\", \"Charlie\", \"Eve\"],\n",
    "})"
   ]
  },
  {
   "cell_type": "code",
   "execution_count": null,
   "id": "471f565c",
   "metadata": {},
   "outputs": [],
   "source": []
  },
  {
   "cell_type": "markdown",
   "id": "058adff7",
   "metadata": {},
   "source": [
    "#### 14. Print the dataframe `df`, such that all rows are visible. (★☆☆)"
   ]
  },
  {
   "cell_type": "code",
   "execution_count": null,
   "id": "34e42c80",
   "metadata": {},
   "outputs": [],
   "source": [
    "df = pl.DataFrame({\n",
    "    \"index\": range(20)\n",
    "})"
   ]
  },
  {
   "cell_type": "code",
   "execution_count": null,
   "id": "321c921d",
   "metadata": {},
   "outputs": [],
   "source": []
  },
  {
   "cell_type": "markdown",
   "id": "dd0068f4",
   "metadata": {},
   "source": [
    "#### 15. Print the dataframe `df`, such that all list element are visible. (★☆☆)"
   ]
  },
  {
   "cell_type": "code",
   "execution_count": null,
   "id": "a43b0792",
   "metadata": {},
   "outputs": [],
   "source": [
    "df = pl.DataFrame({\n",
    "    \"name_lists\": [list(\"Alice\"), list(\"Bob\"), list(\"Charlie\")]\n",
    "})"
   ]
  },
  {
   "cell_type": "code",
   "execution_count": null,
   "id": "62184ae6",
   "metadata": {},
   "outputs": [],
   "source": []
  },
  {
   "cell_type": "markdown",
   "id": "f1e339cf",
   "metadata": {},
   "source": [
    "#### 16. Create a series with all dates corresponding to the month of July 2016. (★★☆)"
   ]
  },
  {
   "cell_type": "code",
   "execution_count": null,
   "id": "1d6930a0",
   "metadata": {},
   "outputs": [],
   "source": []
  },
  {
   "cell_type": "markdown",
   "id": "f19b0308",
   "metadata": {},
   "source": [
    "#### 17. Perform an element-wise multiplication of the float column `\"scalar\"` and the list column `\"vector\"`. (★★★)"
   ]
  },
  {
   "cell_type": "code",
   "execution_count": null,
   "id": "70db45b5",
   "metadata": {},
   "outputs": [],
   "source": [
    "df = pl.DataFrame({\n",
    "    \"scalar\": [1., 2., 3.],\n",
    "    \"vector\": [[1, 2, 3], [4, 5, 6], [7, 8, 9]],\n",
    "})"
   ]
  },
  {
   "cell_type": "code",
   "execution_count": null,
   "id": "bd5feb09",
   "metadata": {},
   "outputs": [],
   "source": []
  },
  {
   "cell_type": "markdown",
   "id": "1fa32789",
   "metadata": {},
   "source": [
    "#### 18. Compute bootstrapped 95% confidence intervals for the mean of the `\"value\"` column (i.e., resample the elements of the column with replacement N times, compute the mean of each sample, and then compute percentiles over the means). (★★★)"
   ]
  },
  {
   "cell_type": "code",
   "execution_count": null,
   "id": "c892cb00",
   "metadata": {},
   "outputs": [],
   "source": [
    "import random\n",
    "\n",
    "df = pl.DataFrame({\n",
    "    \"value\": [random.normalvariate(mu=2, sigma=0.5)**2 for _ in range(100)]\n",
    "})"
   ]
  },
  {
   "cell_type": "code",
   "execution_count": null,
   "id": "bb96d4b8",
   "metadata": {},
   "outputs": [],
   "source": []
  }
 ],
 "metadata": {},
 "nbformat": 4,
 "nbformat_minor": 5
}
